{
  "nbformat": 4,
  "nbformat_minor": 0,
  "metadata": {
    "colab": {
      "name": "Untitled0.ipynb",
      "provenance": [],
      "collapsed_sections": []
    },
    "kernelspec": {
      "name": "python3",
      "display_name": "Python 3"
    }
  },
  "cells": [
    {
      "cell_type": "code",
      "metadata": {
        "id": "NWJ33qELR3hs",
        "colab_type": "code",
        "colab": {
          "base_uri": "https://localhost:8080/",
          "height": 350
        },
        "outputId": "11795d3f-16a2-449e-f6ba-f42fa76c1fc1"
      },
      "source": [
        "# Import the neccessary modules for data manipulation and visual representation\n",
        "import pandas as pd\n",
        "import numpy as np\n",
        "import matplotlib.pyplot as plt\n",
        "import matplotlib as matplot\n",
        "import seaborn as sns\n",
        "%matplotlib inline\n",
        "\n",
        "url = 'https://raw.githubusercontent.com/BPP-Resources/Advanced-Data-and-Audit-Analytics/master/HR_Analytics_Python.csv'\n",
        "df = pd.read_csv(url, index_col=0)\n",
        "\n",
        "# Check to see if there are any missing values in our data set\n",
        "df.isnull().any()\n",
        "\n",
        "# Get a quick overview of what we are dealing with in our dataset\n",
        "df.head()\n",
        "\n",
        "# Renaming certain columns for better readability\n",
        "df = df.rename(columns={'satisfaction_level': 'satisfaction', \n",
        "                        'last_evaluation': 'evaluation',\n",
        "                        'number_project': 'projectCount',\n",
        "                        'average_montly_hours': 'averageMonthlyHours',\n",
        "                        'time_spend_company': 'yearsAtCompany',\n",
        "                        'Work_accident': 'workAccident',\n",
        "                        'promotion_last_5years': 'promotion',\n",
        "                        'sales' : 'department',\n",
        "                        'left' : 'turnover'\n",
        "                        })\n",
        "\n",
        "# Move the reponse variable \"turnover\" to the front of the table\n",
        "front = df['turnover']\n",
        "df.drop(labels=['turnover'], axis=1,inplace = True)\n",
        "df.insert(0, 'turnover', front)\n",
        "df.head()\n",
        "\n",
        "# The dataset contains 10 columns and 14999 observations\n",
        "df.shape\n",
        "\n",
        "# Check the type of our features. \n",
        "df.dtypes\n",
        "\n",
        "turnover_rate = df.turnover.value_counts() / len(df)\n",
        "turnover_rate\n",
        "\n",
        "df.describe()\n",
        "\n",
        "# Overview of summary (Turnover V.S. Non-turnover)\n",
        "turnover_Summary = df.groupby('turnover')\n",
        "turnover_Summary.mean()\n",
        "\n",
        "#Correlation Matrix\n",
        "corr = df.corr()\n",
        "corr = (corr)\n",
        "sns.heatmap(corr, \n",
        "            xticklabels=corr.columns.values,\n",
        "            yticklabels=corr.columns.values)\n",
        "\n",
        "corr\n",
        "\n",
        "# Employee Salary Turnover Distribution\n",
        "f, ax = plt.subplots(figsize=(15, 4))\n",
        "sns.countplot(y=\"salary\", hue='turnover', data=df).set_title('Employee Salary Turnover Distribution');\n",
        "\n",
        "# Employee distribution\n",
        "# Types of colors\n",
        "color_types = ['#78C850','#F08030','#6890F0','#A8B820','#A8A878','#A040A0','#F8D030',  \n",
        "                '#E0C068','#EE99AC','#C03028','#F85888','#B8A038','#705898','#98D8D8','#7038F8']\n",
        "\n",
        "# Count Plot (a.k.a. Bar Plot)\n",
        "sns.countplot(x='department', data=df, palette=color_types).set_title('Employee Department Distribution');\n",
        "\n",
        "# Employee Department Turnover Distribution\n",
        "f, ax = plt.subplots(figsize=(15, 5))\n",
        "sns.countplot(y=\"department\", hue='turnover', data=df).set_title('Employee Department Turnover Distribution');\n",
        "\n",
        "\n",
        "\n",
        "\n",
        "\n",
        "\n",
        "\n",
        "\n",
        "\n",
        "\n",
        "\n",
        "\n",
        "\n",
        "\n",
        "\n",
        "\n",
        "\n",
        "\n",
        "\n",
        "\n"
      ],
      "execution_count": 23,
      "outputs": [
        {
          "output_type": "display_data",
          "data": {
            "image/png": "[encoded data removed]",
            "text/plain": [
              "<Figure size 1080x360 with 1 Axes>"
            ]
          },
          "metadata": {
            "tags": [],
            "needs_background": "light"
          }
        }
      ]
    }
  ]
}